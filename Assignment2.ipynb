{
 "cells": [
  {
   "cell_type": "markdown",
   "id": "846bc67a",
   "metadata": {},
   "source": [
    "1. What are the two values of the Boolean data type? How do you write them?\n",
    "\n",
    "True and False are the two values of Boolean data type. We can assigne the to variable or Boolean values can be computed via \n",
    "expressions."
   ]
  },
  {
   "cell_type": "code",
   "execution_count": 8,
   "id": "efc8dd15",
   "metadata": {},
   "outputs": [
    {
     "name": "stdout",
     "output_type": "stream",
     "text": [
      "True\n",
      "False\n"
     ]
    }
   ],
   "source": [
    "a = True\n",
    "print(a)\n",
    "b = False\n",
    "print(b)"
   ]
  },
  {
   "cell_type": "markdown",
   "id": "37ad43be",
   "metadata": {},
   "source": [
    "2. What are the three different types of Boolean operators?\n",
    "\n",
    "and, or, not are the three types if Boolean operators"
   ]
  },
  {
   "cell_type": "markdown",
   "id": "80dcd0e4",
   "metadata": {},
   "source": [
    "3. Make a list of each Boolean operator's truth tables \n",
    "(i.e. every possible combination of Boolean values for the operator and what it evaluate ).\n",
    "\n",
    "True and True is True\n",
    "True and False is False\n",
    "False and True is False\n",
    "False and False is False \n",
    "True or True is True\n",
    "False or True is True\n",
    "True or False is True\n",
    "False or False is False\n",
    "not True is False\n",
    "not False is True"
   ]
  },
  {
   "cell_type": "markdown",
   "id": "783625ab",
   "metadata": {},
   "source": [
    "4. What are the values of the following expressions?"
   ]
  },
  {
   "cell_type": "code",
   "execution_count": 18,
   "id": "123e5100",
   "metadata": {},
   "outputs": [
    {
     "name": "stdout",
     "output_type": "stream",
     "text": [
      "False\n",
      "False\n",
      "True\n",
      "False\n",
      "False\n",
      "True\n"
     ]
    }
   ],
   "source": [
    "print ((5 > 4) and (3 == 5))\n",
    "print (not (5 > 4))\n",
    "print ((5 > 4) or (3 == 5))\n",
    "print (not ((5 > 4) or (3 == 5)))\n",
    "print ((True and True) and (True == False))\n",
    "print ((not False) or (not True))\n"
   ]
  },
  {
   "cell_type": "markdown",
   "id": "d84fe565",
   "metadata": {},
   "source": [
    "5. What are the six comparison operators?\n",
    "    i) Greater than (>)\n",
    "    ii) Less than (<)\n",
    "    iii) Greater than equal (>=)\n",
    "    iv) Less than equal (<=)\n",
    "    v) Equal to (==)\n",
    "    vi) not equal (!=)"
   ]
  },
  {
   "cell_type": "markdown",
   "id": "3f6cfbaf",
   "metadata": {},
   "source": [
    "6. How do you tell the difference between the equal to and assignment operators?\n",
    "Describe a condition and when you would use one.\n",
    "\n",
    "Equal to opreator is indicated by two time equal operator i.e. ==\n",
    "Equal to opereator compares the values of variables on either side. \n",
    "If both variable have same value returns True otherwise False.\n",
    "\n",
    "Assignment operator indicated by single equal operator i.e. =\n",
    "Assignment operator is used to asign the value to variable.\n",
    "Right side value of equal to operator is assigned to left hand side varialbe "
   ]
  },
  {
   "cell_type": "code",
   "execution_count": 23,
   "id": "95a43632",
   "metadata": {},
   "outputs": [
    {
     "name": "stdout",
     "output_type": "stream",
     "text": [
      "False\n",
      "Value of Variable Ten :  10\n"
     ]
    }
   ],
   "source": [
    "# Example of equal to operator\n",
    "\n",
    "if (2 == 4):\n",
    "    print(\"True\")\n",
    "else:\n",
    "    print(\"False\")\n",
    "    \n",
    "# Example of assignment operator\n",
    "\n",
    "ten  = 10\n",
    "print(\"Value of Variable Ten : \", ten)"
   ]
  },
  {
   "cell_type": "markdown",
   "id": "4b7a9a15",
   "metadata": {},
   "source": [
    "7. Identify the three blocks in this code:\n",
    "spam = 0\n",
    "if spam == 10:\n",
    "print('eggs')\n",
    "if spam > 5:\n",
    "print('bacon')\n",
    "else:\n",
    "print('ham')\n",
    "print('spam')\n",
    "print('spam')\n"
   ]
  },
  {
   "cell_type": "code",
   "execution_count": 25,
   "id": "fe06865e",
   "metadata": {},
   "outputs": [
    {
     "name": "stdout",
     "output_type": "stream",
     "text": [
      "ham\n",
      "spam\n",
      "spam\n"
     ]
    }
   ],
   "source": [
    "spam = 0\n",
    "#block 1\n",
    "if spam == 10:\n",
    "    print('eggs')\n",
    "#block 2\n",
    "if spam > 5:\n",
    "    print('bacon')\n",
    "#block 3\n",
    "else:\n",
    "    print('ham')\n",
    "    print('spam')\n",
    "    print('spam')"
   ]
  },
  {
   "cell_type": "markdown",
   "id": "2bad33f3",
   "metadata": {},
   "source": [
    "8. Write code that prints Hello if 1 is stored in spam, prints Howdy if 2 is stored in spam, and prints Greetings! if anything else is stored in spam."
   ]
  },
  {
   "cell_type": "code",
   "execution_count": 31,
   "id": "c7c447c1",
   "metadata": {},
   "outputs": [
    {
     "name": "stdout",
     "output_type": "stream",
     "text": [
      "Hello\n"
     ]
    }
   ],
   "source": [
    "spam = 1\n",
    "#block 1\n",
    "if spam == 1:\n",
    "    print('Hello')\n",
    "#block 2\n",
    "elif spam == 2:\n",
    "    print('Howdy')\n",
    "#block 3\n",
    "else:\n",
    "    print('Greetings!')\n",
    "    "
   ]
  },
  {
   "cell_type": "markdown",
   "id": "2a4ad8d4",
   "metadata": {},
   "source": [
    "9.If your programme is stuck in an endless loop, what keys you’ll press?\n",
    "\n",
    "Control + c"
   ]
  },
  {
   "cell_type": "markdown",
   "id": "0d25a236",
   "metadata": {},
   "source": [
    "10. How can you tell the difference between break and continue?\n",
    "The break statement terminates the loop\n",
    "The Continue statement terminates the current iteration and continues the next iteration of loop"
   ]
  },
  {
   "cell_type": "markdown",
   "id": "39a1756f",
   "metadata": {},
   "source": [
    "11. In a for loop, what is the difference between range(10), range(0, 10), and range(0, 10, 1)?\n",
    "\n",
    "range(10) : Execute the loop from 0 to 9 times (10 not included)\n",
    "range(0, 10) : Execute the loop from 0 to 9 times (loop starts at 0)\n",
    "range(0, 10, 1) : Execute the loop from 0 to 9 times (loop starts at 0) and also indicate that the step count is 1 for iteration"
   ]
  },
  {
   "cell_type": "code",
   "execution_count": 36,
   "id": "17346740",
   "metadata": {},
   "outputs": [
    {
     "name": "stdout",
     "output_type": "stream",
     "text": [
      "0\n",
      "1\n",
      "2\n",
      "3\n",
      "4\n",
      "5\n",
      "6\n",
      "7\n",
      "8\n",
      "9\n",
      "*******************\n",
      "0\n",
      "1\n",
      "2\n",
      "3\n",
      "4\n",
      "5\n",
      "6\n",
      "7\n",
      "8\n",
      "9\n",
      "*******************\n",
      "0\n",
      "1\n",
      "2\n",
      "3\n",
      "4\n",
      "5\n",
      "6\n",
      "7\n",
      "8\n",
      "9\n"
     ]
    }
   ],
   "source": [
    "for i in range(10):\n",
    "    print(i)\n",
    "\n",
    "print(\"*******************\")\n",
    "    \n",
    "for i in range(0, 10):\n",
    "    print(i)\n",
    "print(\"*******************\")\n",
    "\n",
    "for i in range(0, 10, 1):\n",
    "    print(i)"
   ]
  },
  {
   "cell_type": "markdown",
   "id": "843c767a",
   "metadata": {},
   "source": [
    "12. Write a short program that prints the numbers 1 to 10 using a for loop. Then write an equivalent program that prints the numbers 1 to 10 using a while loop."
   ]
  },
  {
   "cell_type": "code",
   "execution_count": 48,
   "id": "5485019b",
   "metadata": {},
   "outputs": [
    {
     "name": "stdout",
     "output_type": "stream",
     "text": [
      " prints the numbers 1 to 10 using a for loop\n",
      "1\n",
      "2\n",
      "3\n",
      "4\n",
      "5\n",
      "6\n",
      "7\n",
      "8\n",
      "9\n",
      "10\n",
      "prints the numbers 1 to 10 using a while loop.\n",
      "1\n",
      "2\n",
      "3\n",
      "4\n",
      "5\n",
      "6\n",
      "7\n",
      "8\n",
      "9\n",
      "10\n"
     ]
    }
   ],
   "source": [
    "print(\" prints the numbers 1 to 10 using a for loop\")\n",
    "for i in range(1, 11):\n",
    "    print(i)\n",
    "   \n",
    "print(\"prints the numbers 1 to 10 using a while loop.\")\n",
    "i = 1\n",
    "while (i <= 10) :\n",
    "    print(i)\n",
    "    i = i + 1"
   ]
  },
  {
   "cell_type": "markdown",
   "id": "4223f6ae",
   "metadata": {},
   "source": [
    "13. If you had a function named bacon() inside a module named spam, how would you call it after importing spam?\n",
    "\n",
    "The bacon() function inside a module named spam can be called with spam.bacon()"
   ]
  },
  {
   "cell_type": "code",
   "execution_count": null,
   "id": "0057d444",
   "metadata": {},
   "outputs": [],
   "source": []
  }
 ],
 "metadata": {
  "kernelspec": {
   "display_name": "Python 3 (ipykernel)",
   "language": "python",
   "name": "python3"
  },
  "language_info": {
   "codemirror_mode": {
    "name": "ipython",
    "version": 3
   },
   "file_extension": ".py",
   "mimetype": "text/x-python",
   "name": "python",
   "nbconvert_exporter": "python",
   "pygments_lexer": "ipython3",
   "version": "3.9.13"
  }
 },
 "nbformat": 4,
 "nbformat_minor": 5
}
