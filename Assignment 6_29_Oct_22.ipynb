{
 "cells": [
  {
   "cell_type": "markdown",
   "id": "6c0b2b06",
   "metadata": {},
   "source": [
    "1. write a function which will try to find out len of a string without using an inbuilt len function \n",
    "2. write a function which  will be able to print an index of list element without using an index function\n",
    "3. write a function which will be able to print an ip address of your system\n",
    "4. write a function which will shutdown your system\n",
    "5. write a function which will take input as a list with any kind of numeric value and give an out as a multiplication of \n",
    "all the numeric data l = [3.5, 6.56, 4,5,\"sudh\" , \"ineuron\" , 'fsda bootcamp 2.0']\n",
    "6. write a function which will be able to read all the mails \n",
    "7. write a function which will be able to send a mail to anyone \n",
    "8. write a function which will be able to read a doc/word file from your system \n",
    "\n",
    "you are suppose to complete this by oct 30th before your \n",
    "live class and you have to send a solution at mail id - query@ineuron.ai\n",
    "submit your git link to mail "
   ]
  },
  {
   "cell_type": "code",
   "execution_count": null,
   "id": "e64930ac",
   "metadata": {},
   "outputs": [],
   "source": [
    "1. write a function which will try to find out len of a string without using an inbuilt len function "
   ]
  },
  {
   "cell_type": "code",
   "execution_count": 27,
   "id": "24cbbcce",
   "metadata": {},
   "outputs": [],
   "source": [
    "def str_len(s):\n",
    "    count = 0\n",
    "    for i in str:\n",
    "        count = count + 1\n",
    "    return count"
   ]
  },
  {
   "cell_type": "code",
   "execution_count": 28,
   "id": "ab89215e",
   "metadata": {},
   "outputs": [
    {
     "data": {
      "text/plain": [
       "5"
      ]
     },
     "execution_count": 28,
     "metadata": {},
     "output_type": "execute_result"
    }
   ],
   "source": [
    "str_len(\"vikas\")"
   ]
  },
  {
   "cell_type": "markdown",
   "id": "9417e8f6",
   "metadata": {},
   "source": [
    "2. write a function which  will be able to print an index of list element without using an index function"
   ]
  },
  {
   "cell_type": "code",
   "execution_count": 51,
   "id": "5f21d17c",
   "metadata": {},
   "outputs": [],
   "source": [
    "l = [1, 2, 3, 'vikas', 4]"
   ]
  },
  {
   "cell_type": "code",
   "execution_count": 30,
   "id": "f175141f",
   "metadata": {},
   "outputs": [
    {
     "data": {
      "text/plain": [
       "[1, 2, 3, 'vikas', 4]"
      ]
     },
     "execution_count": 30,
     "metadata": {},
     "output_type": "execute_result"
    }
   ],
   "source": [
    "l"
   ]
  },
  {
   "cell_type": "code",
   "execution_count": 46,
   "id": "0dd80de6",
   "metadata": {},
   "outputs": [
    {
     "data": {
      "text/plain": [
       "0"
      ]
     },
     "execution_count": 46,
     "metadata": {},
     "output_type": "execute_result"
    }
   ],
   "source": [
    "l.index(1)"
   ]
  },
  {
   "cell_type": "code",
   "execution_count": 47,
   "id": "645c2d5f",
   "metadata": {},
   "outputs": [
    {
     "data": {
      "text/plain": [
       "1"
      ]
     },
     "execution_count": 47,
     "metadata": {},
     "output_type": "execute_result"
    }
   ],
   "source": [
    "l.index(2)"
   ]
  },
  {
   "cell_type": "code",
   "execution_count": null,
   "id": "ca539fcc",
   "metadata": {},
   "outputs": [],
   "source": [
    "l = [1, 2, 3, 'vikas', 4]"
   ]
  },
  {
   "cell_type": "code",
   "execution_count": 52,
   "id": "a8944890",
   "metadata": {},
   "outputs": [],
   "source": [
    "#function to print index of list element using user defined lenght function\n",
    "def print_index(l, ele):\n",
    "    for i in range(0, str_len(l)): #unsed the usder defined fnctuion for calucating the lenght\n",
    "        if (l[i] == ele):\n",
    "            print(i)"
   ]
  },
  {
   "cell_type": "code",
   "execution_count": 53,
   "id": "1bdfa263",
   "metadata": {},
   "outputs": [
    {
     "name": "stdout",
     "output_type": "stream",
     "text": [
      "3\n"
     ]
    }
   ],
   "source": [
    "print_index(l, 'vikas')"
   ]
  },
  {
   "cell_type": "code",
   "execution_count": 57,
   "id": "8c044873",
   "metadata": {},
   "outputs": [],
   "source": [
    "#function to print index of list element \n",
    "def print_index(l, ele):\n",
    "    for i in range(0, len(l)): #unsed the usder defined fnctuion for calucating the lenght\n",
    "        if (l[i] == ele):\n",
    "            print(i)"
   ]
  },
  {
   "cell_type": "code",
   "execution_count": 58,
   "id": "892329e7",
   "metadata": {},
   "outputs": [
    {
     "name": "stdout",
     "output_type": "stream",
     "text": [
      "3\n"
     ]
    }
   ],
   "source": [
    "print_index(l, 'vikas')"
   ]
  },
  {
   "cell_type": "code",
   "execution_count": null,
   "id": "f170935a",
   "metadata": {},
   "outputs": [],
   "source": []
  }
 ],
 "metadata": {
  "kernelspec": {
   "display_name": "Python 3 (ipykernel)",
   "language": "python",
   "name": "python3"
  },
  "language_info": {
   "codemirror_mode": {
    "name": "ipython",
    "version": 3
   },
   "file_extension": ".py",
   "mimetype": "text/x-python",
   "name": "python",
   "nbconvert_exporter": "python",
   "pygments_lexer": "ipython3",
   "version": "3.9.13"
  }
 },
 "nbformat": 4,
 "nbformat_minor": 5
}
