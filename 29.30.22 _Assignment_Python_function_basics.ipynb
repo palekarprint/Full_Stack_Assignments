{
 "cells": [
  {
   "cell_type": "markdown",
   "id": "6cb42445",
   "metadata": {},
   "source": [
    "### Vikas Palekar - Assignment Submission Python function basics 29.10.22"
   ]
  },
  {
   "cell_type": "markdown",
   "id": "1b143c9e",
   "metadata": {},
   "source": [
    "1. Write a funtion which will find out the length of the string without using inbuit funtion."
   ]
  },
  {
   "cell_type": "code",
   "execution_count": 6,
   "id": "8f8e23ff",
   "metadata": {},
   "outputs": [
    {
     "data": {
      "text/plain": [
       "5"
      ]
     },
     "execution_count": 6,
     "metadata": {},
     "output_type": "execute_result"
    }
   ],
   "source": [
    "string = \"Vikas\"\n",
    "\n",
    "\n",
    "def str_length(l):\n",
    "    count = 0\n",
    "    for i in l:\n",
    "        count += 1\n",
    "    return count\n",
    "\n",
    "str_length(string)"
   ]
  },
  {
   "cell_type": "markdown",
   "id": "1e41acc7",
   "metadata": {},
   "source": [
    "2. Write a function which will be able to print an index of list element without using index function."
   ]
  },
  {
   "cell_type": "code",
   "execution_count": 7,
   "id": "88c3a577",
   "metadata": {},
   "outputs": [
    {
     "name": "stdout",
     "output_type": "stream",
     "text": [
      "0 - zero\n",
      "1 - one\n",
      "2 - two\n",
      "3 - three\n",
      "4 - four\n"
     ]
    }
   ],
   "source": [
    "lst = ['zero', 'one', 'two', 'three', 'four']\n",
    "\n",
    "def index_print(l):\n",
    "    for i in range (0, len(l)):\n",
    "        print(f'{i} - {l[i]}')\n",
    "\n",
    "index_print(lst)"
   ]
  },
  {
   "cell_type": "markdown",
   "id": "60d91914",
   "metadata": {},
   "source": [
    "3. Write a function which will be able to print the IP Address of the your system."
   ]
  },
  {
   "cell_type": "code",
   "execution_count": null,
   "id": "15f40b7d",
   "metadata": {},
   "outputs": [],
   "source": []
  },
  {
   "cell_type": "markdown",
   "id": "b4fe6acd",
   "metadata": {},
   "source": [
    "4. Write a function which will shut down your system"
   ]
  },
  {
   "cell_type": "code",
   "execution_count": null,
   "id": "f4b3ad46",
   "metadata": {},
   "outputs": [],
   "source": []
  },
  {
   "cell_type": "markdown",
   "id": "aec25db0",
   "metadata": {},
   "source": [
    "5. write a function which will take input with any kind of numeric value and give an output as multiplication of all the numeric data\n",
    "\n",
    "\n",
    "L = [3.5., 6.56, 4.5 \"sudh\", 'ineuron', 'fsda bootcamp 2,0']"
   ]
  },
  {
   "cell_type": "code",
   "execution_count": 27,
   "id": "29a99d4e",
   "metadata": {},
   "outputs": [
    {
     "data": {
      "text/plain": [
       "-103.32"
      ]
     },
     "execution_count": 27,
     "metadata": {},
     "output_type": "execute_result"
    }
   ],
   "source": [
    "L = [3.5, 6.56, 4.5, \"sudh\", 'ineuron', 'fsda bootcamp 2,0']\n",
    "def multiplication(l):\n",
    "    res = 1\n",
    "    for i in l:\n",
    "        if (i == 0):\n",
    "            res = 0\n",
    "        else:\n",
    "            if (type(i) == int or type(i) == float):\n",
    "                res = res * i\n",
    "    return res\n",
    "multiplication(L)"
   ]
  },
  {
   "cell_type": "markdown",
   "id": "2afa40df",
   "metadata": {},
   "source": [
    "6. write a funtion which will be able to read all the mail"
   ]
  },
  {
   "cell_type": "code",
   "execution_count": null,
   "id": "0f9f6ffd",
   "metadata": {},
   "outputs": [],
   "source": []
  },
  {
   "cell_type": "markdown",
   "id": "65fc1c5a",
   "metadata": {},
   "source": [
    "7. write a funtion which will be able to send a mail to anyone"
   ]
  },
  {
   "cell_type": "code",
   "execution_count": null,
   "id": "a57a09ac",
   "metadata": {},
   "outputs": [],
   "source": []
  },
  {
   "cell_type": "markdown",
   "id": "4d8db0f8",
   "metadata": {},
   "source": [
    "8. write a function which will be able to read a doc/word file from your system\n"
   ]
  },
  {
   "cell_type": "code",
   "execution_count": null,
   "id": "e049592d",
   "metadata": {},
   "outputs": [],
   "source": []
  }
 ],
 "metadata": {
  "kernelspec": {
   "display_name": "Python 3 (ipykernel)",
   "language": "python",
   "name": "python3"
  },
  "language_info": {
   "codemirror_mode": {
    "name": "ipython",
    "version": 3
   },
   "file_extension": ".py",
   "mimetype": "text/x-python",
   "name": "python",
   "nbconvert_exporter": "python",
   "pygments_lexer": "ipython3",
   "version": "3.9.12"
  }
 },
 "nbformat": 4,
 "nbformat_minor": 5
}
